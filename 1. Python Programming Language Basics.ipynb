{
 "cells": [
  {
   "cell_type": "code",
   "execution_count": 10,
   "metadata": {},
   "outputs": [],
   "source": [
    "# few basic libraries we need to use for programming in python\n",
    "import numpy as np\n",
    "from matplotlib import pyplot as plt"
   ]
  },
  {
   "cell_type": "code",
   "execution_count": 2,
   "metadata": {},
   "outputs": [
    {
     "name": "stdout",
     "output_type": "stream",
     "text": [
      "10  +  20  =  30\n"
     ]
    }
   ],
   "source": [
    "# variable creation and manipulation\n",
    "a = 10\n",
    "b = 20\n",
    "c = a + b\n",
    "print(a, \" + \", b, \" = \",c)"
   ]
  },
  {
   "cell_type": "code",
   "execution_count": 3,
   "metadata": {},
   "outputs": [
    {
     "name": "stdout",
     "output_type": "stream",
     "text": [
      "a is 10\n"
     ]
    }
   ],
   "source": [
    "# if else condtion\n",
    "if a == 10:\n",
    "    print('a is 10')\n",
    "else:\n",
    "    print('a is not 10')\n",
    "    "
   ]
  },
  {
   "cell_type": "code",
   "execution_count": 6,
   "metadata": {},
   "outputs": [
    {
     "name": "stdout",
     "output_type": "stream",
     "text": [
      "0\n",
      "1\n",
      "2\n",
      "3\n"
     ]
    }
   ],
   "source": [
    "# loops \n",
    "for count in range(4):\n",
    "    print(count)"
   ]
  },
  {
   "cell_type": "code",
   "execution_count": 7,
   "metadata": {},
   "outputs": [
    {
     "name": "stdout",
     "output_type": "stream",
     "text": [
      "10\n",
      "14\n",
      "18\n",
      "22\n",
      "26\n"
     ]
    }
   ],
   "source": [
    "# loops : start at 10 increment with steps of 2 till 30 (30 is not included)\n",
    "for count in range(10,30,4):\n",
    "    print(count)"
   ]
  },
  {
   "cell_type": "code",
   "execution_count": 12,
   "metadata": {},
   "outputs": [
    {
     "name": "stdout",
     "output_type": "stream",
     "text": [
      "[10, 6, 2, -2, -6, -10, -14, -18]\n"
     ]
    },
    {
     "data": {
      "image/png": "[encoded data removed]",
      "text/plain": [
       "<Figure size 432x288 with 1 Axes>"
      ]
     },
     "metadata": {
      "needs_background": "light"
     },
     "output_type": "display_data"
    },
    {
     "name": "stdout",
     "output_type": "stream",
     "text": [
      "20\n",
      "12\n",
      "4\n",
      "-4\n",
      "-12\n",
      "-20\n",
      "-28\n",
      "-36\n"
     ]
    }
   ],
   "source": [
    "# list creation and manipulation\n",
    "my_list = []\n",
    "for count in range(10,-20,-4):\n",
    "    my_list.append(count)\n",
    "\n",
    "# print the list\n",
    "print(my_list)\n",
    "\n",
    "# plot the list\n",
    "plt.plot(my_list)\n",
    "plt.show()\n",
    "\n",
    "# use the elements in a list iteratively\n",
    "for item in my_list:\n",
    "    print(item*2)"
   ]
  },
  {
   "cell_type": "code",
   "execution_count": 36,
   "metadata": {},
   "outputs": [
    {
     "name": "stdout",
     "output_type": "stream",
     "text": [
      "[0 1 2 3]\n",
      "[ 10   6   2  -2  -6 -10 -14 -18]\n",
      "[ 4  5  7 -2 -1] \n",
      "\n",
      "arr3 data type: int64\n",
      "arr4 data type: float64\n"
     ]
    }
   ],
   "source": [
    "# numpy arrays\n",
    "arr = np.arange(4)\n",
    "print(arr)\n",
    "\n",
    "# use the existing list to create a numpy array\n",
    "arr2 = np.array(my_list)\n",
    "print(arr2)\n",
    "\n",
    "# create a random numpy array by passing the list as an argument to np.array()\n",
    "arr3 = np.array([4, 5, 7, -2, -1])\n",
    "print(arr3, '\\n')\n",
    "# check the variable type of the array\n",
    "print(\"arr3 data type:\", arr3.dtype)\n",
    "\n",
    "# floating type array\n",
    "arr4 = np.array([1.2, 4.5])\n",
    "print(\"arr4 data type:\", arr4.dtype)"
   ]
  },
  {
   "cell_type": "markdown",
   "metadata": {},
   "source": [
    "# 2 Dimensional arrays "
   ]
  },
  {
   "cell_type": "code",
   "execution_count": 35,
   "metadata": {},
   "outputs": [
    {
     "name": "stdout",
     "output_type": "stream",
     "text": [
      "[[0. 0. 0. 0.]\n",
      " [0. 0. 0. 0.]\n",
      " [0. 0. 0. 0.]]\n",
      "float64 \n",
      "\n",
      "[[0 0 0 0]\n",
      " [0 0 0 0]\n",
      " [0 0 0 0]]\n",
      "int32 \n",
      "\n",
      "[[1 1 1 1 1]\n",
      " [1 1 1 1 1]]\n"
     ]
    }
   ],
   "source": [
    "# create a matrix of zeros with 3 rows and 4 columns\n",
    "mat1 = np.zeros([3,4])\n",
    "print(mat1)\n",
    "print(mat1.dtype, '\\n')\n",
    "\n",
    "# change the data type of the matrix\n",
    "mat2 = mat1.astype('int32')\n",
    "print(mat2)\n",
    "print(mat2.dtype, '\\n')\n",
    "\n",
    "# create a matrix of ones with rows 2 and 5 columns\n",
    "mat3 = np.ones([2, 5], dtype = 'int32')\n",
    "print(mat3)"
   ]
  },
  {
   "cell_type": "markdown",
   "metadata": {},
   "source": [
    "## Explore more at https://docs.scipy.org/doc/numpy/user/quickstart.html"
   ]
  }
 ],
 "metadata": {
  "kernelspec": {
   "display_name": "Python 3",
   "language": "python",
   "name": "python3"
  },
  "language_info": {
   "codemirror_mode": {
    "name": "ipython",
    "version": 3
   },
   "file_extension": ".py",
   "mimetype": "text/x-python",
   "name": "python",
   "nbconvert_exporter": "python",
   "pygments_lexer": "ipython3",
   "version": "3.7.3"
  }
 },
 "nbformat": 4,
 "nbformat_minor": 2
}
